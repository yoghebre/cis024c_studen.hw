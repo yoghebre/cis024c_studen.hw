{
 "cells": [
  {
   "cell_type": "markdown",
   "metadata": {},
   "source": [
    "\n",
    "# CIS024C - Spring 2020  \n",
    "\n",
    "## Homework 3\n",
    "\n",
    "Homework 3 covers exercises in String Manipulation. \n",
    "\n",
    "For a list of features supported in the string module, please refer to this URL https://docs.python.org/2/library/string.html\n",
    "\n",
    "You will need to download this notebook and use this as a starting point for your homework. You will just need to fill in the content of each code-block (cell) and execute. Once you have completed all the exercises, you will need to save and upload this through Canvas\n",
    "\n",
    "Note also the exercises build on top of one another so you might be able to do the next exercise if you have not completed the previous exercise.\n",
    "\n",
    "**Please refer back to hw1 and slack for instructions on how to setup your computer for developing using Python.**"
   ]
  },
  {
   "cell_type": "markdown",
   "metadata": {},
   "source": [
    "### Helpful Jupyter Commands\n",
    "\n",
    "Below are some useful commands to know when using Jupyter\n",
    "\n",
    "1. You can add a new cell by clicking on the \"+\" icon on top.\n",
    "2. You can delete a cell by selecting that cell and clicking on the \"scissors\" icon on top.\n",
    "3. You can execute a cell by either pressing shift+enter or selecting the \"play\" button on top.\n",
    "4. You can create a new file in Jupyter via the File menu->New Notebook option. Make sure to select Python 2 when creating your notebook.\n",
    "5. Also, for your code blocks make sure that Code is selected instead of another option like Markdown.\n",
    "6. Use the Enter key to go to the next line in a cell to enter the next statement.\n",
    "7. You can clear results by clicking on the Cell menu item and selecting Current Output->Clear or All Output->Clear depending on whether you are trying to just clear the output for one cell or for all cells.\n",
    "8. In case your program has crashed for some reason (infinite loop, for example), you can restart your Python session by select Kernel in the menu and selecting Restart.\n"
   ]
  },
  {
   "cell_type": "markdown",
   "metadata": {},
   "source": [
    "#### Check Python Version"
   ]
  },
  {
   "cell_type": "code",
   "execution_count": 25,
   "metadata": {},
   "outputs": [
    {
     "name": "stdout",
     "output_type": "stream",
     "text": [
      "Python 3.7.4\r\n"
     ]
    }
   ],
   "source": [
    "!python --version"
   ]
  },
  {
   "cell_type": "markdown",
   "metadata": {},
   "source": [
    "#### Exercise 1 -  Using logical operators - and, or and not\n",
    "\n",
    "Get the ages of three persons Harry, Sally and Mary from the user. Check the below conditions and display the results\n",
    "\n",
    "1. If Harry and Sally are both less than 20 years old, display the message saying \"Harry and Sally are less than 20 years old\"\n",
    "2. If either Sally or Mary is older than 30, then display the message saying \"Either Sally or Mary is older than 30\"\n",
    "\n",
    "Remember that to do this you will need to use different variables to store the respective ages and then evaluate those ages using the if statement and logical operators."
   ]
  },
  {
   "cell_type": "code",
   "execution_count": 22,
   "metadata": {},
   "outputs": [
    {
     "name": "stdout",
     "output_type": "stream",
     "text": [
      "Enter Harry's age? 19\n",
      "Enter Sally's age? 22\n",
      "Enter Mary's age? 31\n",
      "Either Sally or Mary is older than 30.\n"
     ]
    }
   ],
   "source": [
    "### YOUR CODE GOES\n",
    "\n",
    "harry_Age = int(input(\"Enter Harry's age? \"))\n",
    "sally_Age = int(input(\"Enter Sally's age? \"))\n",
    "mary_Age = int(input(\"Enter Mary's age? \"))\n",
    "\n",
    "if harry_Age < 20 and sally_Age < 20:\n",
    "    print(\"Harry and Sally are less than 20 years old.\")\n",
    "    \n",
    "elif sally_Age > 30 or mary_Age > 30:\n",
    "        print(\"Either Sally or Mary is older than 30.\")\n",
    "    \n",
    "\n",
    "    \n",
    "    \n",
    "     \n",
    "\n",
    "\n",
    "\n",
    "\n",
    "### END CODE"
   ]
  },
  {
   "cell_type": "markdown",
   "metadata": {},
   "source": [
    "#### Exercise 2 - Find the length of a given string\n",
    "\n",
    "Ask the user to enter their first name. Compute the number of characters in the first name and print the result. \n",
    "\n",
    "Note that you will need to use the ** len ** function to obtain the number of characters in the string."
   ]
  },
  {
   "cell_type": "code",
   "execution_count": 10,
   "metadata": {},
   "outputs": [
    {
     "name": "stdout",
     "output_type": "stream",
     "text": [
      "Enter your name? Eritrea\n",
      "The length of the name is:  7\n"
     ]
    }
   ],
   "source": [
    "### YOUR CODE GOES BELOW\n",
    "\n",
    "name = input(\"Enter your name? \")\n",
    "print(\"The length of the name is: \", len(name))\n",
    "\n"
   ]
  },
  {
   "cell_type": "markdown",
   "metadata": {},
   "source": [
    "#### Exercise 3 - Reversing a String\n",
    "\n",
    "Ask the user to enter the name of their favorite movie. Reverse the name of the movie and print it out."
   ]
  },
  {
   "cell_type": "code",
   "execution_count": 8,
   "metadata": {},
   "outputs": [
    {
     "name": "stdout",
     "output_type": "stream",
     "text": [
      "Enter your favorite movie name? The Pursuit of Happiness.\n",
      "printing the string in reverse:  .ssenippaH fo tiusruP ehT\n"
     ]
    }
   ],
   "source": [
    "### YOUR CODE GOES BELOW\n",
    "\n",
    "movie_Name = input(\"Enter your favorite movie name? \")\n",
    "print(\"printing the string in reverse: \", movie_Name[::-1])\n",
    "\n",
    "\n",
    "### END CODE"
   ]
  },
  {
   "cell_type": "markdown",
   "metadata": {},
   "source": [
    "#### Exercise 5 - Parsing a comma separated set of values\n",
    "\n",
    "Ask the user to type in a grocery list. Ensure that each item in the grocery list is separated by a comma. Use the **split** command to extract each token (item) in the grocery list. Print the last item in the list.\n",
    "\n",
    "For example, if the user enters \"milk,bananas,sugar,eggs,cheese\", you will need to read this into a variable, parse the contents using the **split** command and print \"cheese\""
   ]
  },
  {
   "cell_type": "markdown",
   "metadata": {},
   "source": [
    "#### Exercise 4 - Converting an input string to lower case and looking for a match\n",
    "\n",
    "Ask the user to enter a **line of text** and a **search string**. Convert the line of text that the user entered to lower case. Search the resulting text for the search string. Print \"Search String Found\" if the search string was found, otherwise, print \"Search String not found\"\n",
    "\n",
    "For example, the user could enter \"Jack and Jill went up the Hill\" and the search string \"jill\". You first need to convert the input string to lower case like so - \"jack and jill went up the hill\". \n",
    "\n",
    "Next you will need to look for the search string in the input string. You can use the \"if searchString in text\" form of query to determine if the text contains the search string. See week 3 classowork for an example"
   ]
  },
  {
   "cell_type": "code",
   "execution_count": 4,
   "metadata": {},
   "outputs": [
    {
     "name": "stdout",
     "output_type": "stream",
     "text": [
      "Enter your text? Jack and Jill went up the Hill\n",
      "jack and jill went up the hill\n",
      "jack\n",
      "and\n",
      "jill\n",
      "went\n",
      "up\n",
      "the\n",
      "hill\n",
      "Enter your search string? jill\n",
      "Serach String not Found.\n"
     ]
    }
   ],
   "source": [
    "### YOUR CODE GOES BELOW\n",
    "text = input(\"Enter your text? \")\n",
    "text = text.lower()\n",
    "print(text)\n",
    "for word in text.split():\n",
    "    print(word)\n",
    "\n",
    "\n",
    "searchString = input(\"Enter your search string? \")\n",
    "if searchString == word:\n",
    "    print(\"Search String Found.\")\n",
    "else:\n",
    "    print(\"Serach String not Found.\")\n",
    "    \n",
    "\n",
    "### END CODE"
   ]
  },
  {
   "cell_type": "markdown",
   "metadata": {},
   "source": [
    "## OPTIONAL EXERCISES\n",
    "\n",
    "Below is a set of optional exercises. These will not be graded but the solutions will be posted. I would strongly encourage you to try these out if you are done with the mandatory homework exercises to improve your understanding of python."
   ]
  },
  {
   "cell_type": "markdown",
   "metadata": {},
   "source": [
    "#### Exercise 6\n",
    "\n",
    "Ask the user to type in a grocery list and a search item. Ensure that each item in the grocery list is separated by a comma and an arbitrary number of spaces. Use the **split** command to search for the search item in this list. \n",
    "\n",
    "For example, let us say that the user enters \"\"milk ,  bananas,  sugar,  eggs,  cheese  \" (notice the arbitrary spaces between items) and the search term is \"eggs\". You will need to look for \"eggs\" in the grocery list and if found, print the message \"Item found\", otherwise, print \"Item not found\""
   ]
  },
  {
   "cell_type": "code",
   "execution_count": 14,
   "metadata": {},
   "outputs": [
    {
     "name": "stdout",
     "output_type": "stream",
     "text": [
      "Enter your grocery list? milk, banana, sugar, eggs\n",
      "Enter the item to search? eggs\n",
      "Item not found.\n"
     ]
    }
   ],
   "source": [
    "### YOUR CODE GOES BELOW\n",
    "grocery_List = input(\"Enter your grocery list? \")\n",
    "search = input(\"Enter the item to search? \")\n",
    "Lists = grocery_List.split(',')\n",
    "if search in Lists:  \n",
    "    print(\"Item found.\")\n",
    "else:\n",
    "    print(\"Item not found.\")\n",
    "    \n",
    "    \n",
    "    \n",
    "\n",
    "### END CODE"
   ]
  },
  {
   "cell_type": "markdown",
   "metadata": {},
   "source": [
    "#### Exercise 7\n",
    "\n",
    "Write a python program that takes in a list of words from the user and prints the shortest word in the list. If two words are equal short, just pick the first one that you see.\n"
   ]
  },
  {
   "cell_type": "code",
   "execution_count": 17,
   "metadata": {},
   "outputs": [
    {
     "name": "stdout",
     "output_type": "stream",
     "text": [
      "Enter a list of wordshigh, u, me\n",
      "u\n",
      "u\n"
     ]
    }
   ],
   "source": [
    "### YOUR CODE GOES BELOW\n",
    "wordList = input(\"Enter a list of words\")\n",
    "tokens = wordList.split(\", \")\n",
    "current = \" \"\n",
    "temp = tokens[0]\n",
    "shortWord = \" \"\n",
    "for i in wordList.split(\", \"):\n",
    "    current = i\n",
    "    if len(current) <= len(temp):\n",
    "        temp = current\n",
    "    else:\n",
    "        print(temp)\n",
    "shortWord = temp\n",
    "print(shortWord)\n",
    "\n",
    "\n",
    "### END CODE"
   ]
  },
  {
   "cell_type": "markdown",
   "metadata": {},
   "source": [
    "#### Exercise 8\n",
    "\n",
    "Accept a line of text from the user with some repeating words. Ask the user to enter a search term (one of the repeating words). Count the number of times the search term repeats in the text.\n",
    "\n",
    "For example, if the sentence is - \"She sells sea shells on the sea shore\" and the search term is \"sea\", then the program should print the result 2, indicating that two occurrences of the word \"sea\" were found in the text\n"
   ]
  },
  {
   "cell_type": "code",
   "execution_count": 9,
   "metadata": {},
   "outputs": [],
   "source": [
    "### YOUR CODE GOES BELOW\n",
    "text = input(\"Enter a line of text with repeating words: \")\n",
    "search = input(\"Enter one of the repeating words: \")\n",
    "counter = 0\n",
    "for i in text.split():\n",
    "    if search in i:\n",
    "        counter += 1\n",
    "print(\"Number of times the word is in the text: \",counter)\n",
    "\n",
    "\n",
    "\n",
    "### END CODE"
   ]
  },
  {
   "cell_type": "markdown",
   "metadata": {},
   "source": [
    "#### Exercise 9\n",
    "\n",
    "Write a python program to get text from the user. Create a new text from the original text with the word \" stranger \" inserted in the middle of the text. Print the resulting new text."
   ]
  },
  {
   "cell_type": "code",
   "execution_count": 10,
   "metadata": {},
   "outputs": [],
   "source": [
    "### YOUR CODE GOES BELOW\n",
    "text = input(\"Enter a line of text:\")\n",
    "tokens = text.split()\n",
    "place = 0\n",
    "x = 0\n",
    "if len(tokens)%2 == 1:\n",
    "    place = len(tokens)-1\n",
    "    place = place/2\n",
    "else:\n",
    "    place = len(tokens)/2\n",
    "newText = \" \"\n",
    "for i in text.split():\n",
    "    if x != place:\n",
    "        newText = newText + \" \" + i\n",
    "        x += 1\n",
    "    else:\n",
    "        newText = newText + \" \" + \"Stranger\" + \" \" + i\n",
    "        x += 1\n",
    "print(newText)\n",
    "\n",
    "\n",
    "\n",
    "### END CODE"
   ]
  },
  {
   "cell_type": "markdown",
   "metadata": {},
   "source": [
    "#### Exercise 10\n",
    "\n",
    "Write a python program to get a line of text from the user. Sort each word in the text alphabetically and print it out. \n",
    "\n",
    "For example, if the user enters \"Jack and Jill went up the hill\", the result should be \"and hill Jack Jill the up went\"\n"
   ]
  },
  {
   "cell_type": "code",
   "execution_count": 18,
   "metadata": {},
   "outputs": [
    {
     "name": "stdout",
     "output_type": "stream",
     "text": [
      "Enter a line of text? how are yoy doing\n",
      "['how', 'are', 'yoy', 'doing']\n",
      "are\n",
      "doing\n",
      "how\n",
      "yoy\n"
     ]
    }
   ],
   "source": [
    "### YOUR CODE GOES BELOW\n",
    "text = input(\"Enter a line of text? \")\n",
    "\n",
    "words = text.split()   ## breakdown the string into a list of words.\n",
    "print(words)\n",
    "words.sort()          ## sort words separately\n",
    "for word in words:\n",
    "    print(word)\n",
    "\n",
    "\n",
    "\n",
    "### END CODE"
   ]
  },
  {
   "cell_type": "code",
   "execution_count": null,
   "metadata": {},
   "outputs": [],
   "source": []
  }
 ],
 "metadata": {
  "kernelspec": {
   "display_name": "Python 3",
   "language": "python",
   "name": "python3"
  },
  "language_info": {
   "codemirror_mode": {
    "name": "ipython",
    "version": 3
   },
   "file_extension": ".py",
   "mimetype": "text/x-python",
   "name": "python",
   "nbconvert_exporter": "python",
   "pygments_lexer": "ipython3",
   "version": "3.7.4"
  }
 },
 "nbformat": 4,
 "nbformat_minor": 2
}
